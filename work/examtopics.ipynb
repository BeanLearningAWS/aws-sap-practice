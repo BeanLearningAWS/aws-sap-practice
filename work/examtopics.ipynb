{
 "cells": [
  {
   "cell_type": "markdown",
   "id": "e31c1fd9-a26d-48f3-bc27-ebc22cdd3b40",
   "metadata": {
    "collapsed": true,
    "jupyter": {
     "outputs_hidden": true
    }
   },
   "source": [
    "# TOC\n",
    "1. "
   ]
  },
  {
   "cell_type": "markdown",
   "id": "16a3082f-3074-4d73-ba28-cb3b7d92ae8c",
   "metadata": {},
   "source": [
    "# Question 1\n",
    "A company needs to architect a hybrid DNS solution. This solution will use an Amazon Route 53 private hosted zone for the domain cloud.example.com for the resources stored within VPCs.\n",
    "\n",
    "The company has the following DNS resolution requirements:\n",
    "- On-premises systems should be able to resolve and connect to cloud.example.com.\n",
    "- All VPCs should be able to resolve cloud.example.com.\n",
    "- There is already an AWS Direct Connect connection between the on-premises corporate network and AWS Transit Gateway.\n",
    "\n",
    "Which architecture should the company use to meet these requirements with the HIGHEST performance?\n",
    "\n",
    "1. Associate the private hosted zone to all the VPCs. Create a Route 53 inbound resolver in the shared services VPC. Attach all VPCs to the transit gateway and create forwarding rules in the on-premises DNS server for cloud.example.com that point to the inbound resolver.\n",
    "2. Associate the private hosted zone to all the VPCs. Deploy an Amazon EC2 conditional forwarder in the shared services VPC. Attach all VPCs to the transit gateway and create forwarding rules in the on-premises DNS server for cloud.example.com that point to the conditional forwarder.\n",
    "3. Associate the private hosted zone to the shared services VPC. Create a Route 53 outbound resolver in the shared services VPC. Attach all VPCs to the transit gateway and create forwarding rules in the on-premises DNS server for cloud.example.com that point to the outbound resolver.\n",
    "4. Associate the private hosted zone to the shared services VPC. Create a Route 53 inbound resolver in the shared services VPC. Attach the shared services VPC to the transit gateway and create forwarding rules in the on-premises DNS server for cloud.example.com that point to the inbound resolver.\n",
    "\n",
    "#### Unknown terms\n",
    "- **Route53 inbound/outbound resolver** \\\n",
    "    Route53 resolver helps resolve DNS queries between on-prem and AWS resources \\\n",
    "    Inbound resolver Endpoints allow DNS queries from to reach on-prem DNS servers from your VPC \\\n",
    "    Outbound resolver Endpoints are vice versa \\\n",
    "    https://docs.aws.amazon.com/Route53/latest/DeveloperGuide/resolver.html\n",
    "- **shared services VPC** \\\n",
    "    Centralize shared services into a VPC \\\n",
    "    https://docs.aws.amazon.com/vpc/latest/userguide/vpc-sharing.html\n",
    "    \n",
    "- **EC2 conditional forwarder** do not exists \\\n",
    "    conditional forwarder: https://www.linkedin.com/pulse/understanding-essential-dns-settings-forwarders-prabu-ponnan/ \\\n",
    "    https://docs.aws.amazon.com/whitepapers/latest/hybrid-cloud-dns-options-for-vpc/decentralized-conditional-forwarders.html\n",
    "\n",
    "#### Answer: A\n",
    "https://d1.awsstatic.com/architecture-diagrams/ArchitectureDiagrams/hybrid-dns_route53-resolver-endpoint-ra.pdf"
   ]
  },
  {
   "cell_type": "code",
   "execution_count": 2,
   "id": "13329be4-c3bb-448e-a141-40a3ef5ce579",
   "metadata": {},
   "outputs": [
    {
     "name": "stdout",
     "output_type": "stream",
     "text": [
      "hello bash shell\n",
      "total 76\n",
      "drwxr-xr-x   1 root root 4096 Oct 13 04:28 .\n",
      "drwxr-xr-x   1 root root 4096 Oct 13 04:28 ..\n",
      "lrwxrwxrwx   1 root root    7 Aug 16 02:02 bin -> usr/bin\n",
      "drwxr-xr-x   2 root root 4096 Apr 18  2022 boot\n",
      "drwxr-xr-x   5 root root  340 Oct 13 04:28 dev\n",
      "-rwxr-xr-x   1 root root    0 Oct 13 04:28 .dockerenv\n",
      "drwxr-xr-x   1 root root 4096 Oct 13 04:28 etc\n",
      "drwxr-xr-x   1 root root 4096 Sep 25 03:03 home\n",
      "lrwxrwxrwx   1 root root    7 Aug 16 02:02 lib -> usr/lib\n",
      "lrwxrwxrwx   1 root root    9 Aug 16 02:02 lib32 -> usr/lib32\n",
      "lrwxrwxrwx   1 root root    9 Aug 16 02:02 lib64 -> usr/lib64\n",
      "lrwxrwxrwx   1 root root   10 Aug 16 02:02 libx32 -> usr/libx32\n",
      "drwxr-xr-x   2 root root 4096 Aug 16 02:03 media\n",
      "drwxr-xr-x   2 root root 4096 Aug 16 02:03 mnt\n",
      "drwxr-xr-x   1 root root 4096 Sep 25 03:12 opt\n",
      "dr-xr-xr-x 288 root root    0 Oct 13 04:28 proc\n",
      "drwx------   2 root root 4096 Aug 16 02:06 root\n",
      "drwxr-xr-x   5 root root 4096 Aug 16 02:06 run\n",
      "lrwxrwxrwx   1 root root    8 Aug 16 02:02 sbin -> usr/sbin\n",
      "drwxr-xr-x   2 root root 4096 Aug 16 02:03 srv\n",
      "dr-xr-xr-x  13 root root    0 Oct 13 04:28 sys\n",
      "drwxrwxrwt   1 root root 4096 Oct 13 04:28 tmp\n",
      "drwxr-xr-x   1 root root 4096 Aug 16 02:03 usr\n",
      "drwxr-xr-x   1 root root 4096 Aug 16 02:06 var\n"
     ]
    }
   ],
   "source": [
    "%%bash\n",
    "echo \"hello bash shell\"\n",
    "ls -al /"
   ]
  },
  {
   "cell_type": "code",
   "execution_count": 1,
   "id": "aa251b35-331c-4b25-ad61-91212932dd6e",
   "metadata": {},
   "outputs": [
    {
     "data": {
      "image/svg+xml": [
       "<?xml version=\"1.0\" encoding=\"UTF-8\" standalone=\"no\"?>\n",
       "<!DOCTYPE svg PUBLIC \"-//W3C//DTD SVG 1.1//EN\"\n",
       " \"http://www.w3.org/Graphics/SVG/1.1/DTD/svg11.dtd\">\n",
       "<!-- Generated by graphviz version 8.1.0 (20230707.2238)\n",
       " -->\n",
       "<!-- Pages: 1 -->\n",
       "<svg width=\"101pt\" height=\"44pt\"\n",
       " viewBox=\"0.00 0.00 101.49 44.00\" xmlns=\"http://www.w3.org/2000/svg\" xmlns:xlink=\"http://www.w3.org/1999/xlink\">\n",
       "<g id=\"graph0\" class=\"graph\" transform=\"scale(1 1) rotate(0) translate(4 40)\">\n",
       "<polygon fill=\"white\" stroke=\"none\" points=\"-4,4 -4,-40 97.49,-40 97.49,4 -4,4\"/>\n",
       "<!-- Test node -->\n",
       "<g id=\"node1\" class=\"node\">\n",
       "<title>Test node</title>\n",
       "<ellipse fill=\"none\" stroke=\"black\" cx=\"46.75\" cy=\"-18\" rx=\"46.75\" ry=\"18\"/>\n",
       "<text text-anchor=\"middle\" x=\"46.75\" y=\"-12.95\" font-family=\"Times,serif\" font-size=\"14.00\">Test node</text>\n",
       "</g>\n",
       "</g>\n",
       "</svg>\n"
      ],
      "text/plain": [
       "<graphviz.graphs.Graph at 0x7f028d848090>"
      ]
     },
     "execution_count": 1,
     "metadata": {},
     "output_type": "execute_result"
    }
   ],
   "source": [
    "from graphviz import Graph\n",
    "g = Graph()\n",
    "g.node('Test node')\n",
    "g"
   ]
  },
  {
   "cell_type": "code",
   "execution_count": null,
   "id": "fc82d993-3986-464b-8f18-6a959b79c13b",
   "metadata": {},
   "outputs": [],
   "source": []
  }
 ],
 "metadata": {
  "kernelspec": {
   "display_name": "Python 3 (ipykernel)",
   "language": "python",
   "name": "python3"
  },
  "language_info": {
   "codemirror_mode": {
    "name": "ipython",
    "version": 3
   },
   "file_extension": ".py",
   "mimetype": "text/x-python",
   "name": "python",
   "nbconvert_exporter": "python",
   "pygments_lexer": "ipython3",
   "version": "3.11.5"
  }
 },
 "nbformat": 4,
 "nbformat_minor": 5
}
