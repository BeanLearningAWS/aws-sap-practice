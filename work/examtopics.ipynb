{
 "cells": [
  {
   "cell_type": "markdown",
   "id": "e31c1fd9-a26d-48f3-bc27-ebc22cdd3b40",
   "metadata": {
    "collapsed": true,
    "jupyter": {
     "outputs_hidden": true
    }
   },
   "source": [
    "# TOC\n",
    "1. "
   ]
  },
  {
   "cell_type": "markdown",
   "id": "16a3082f-3074-4d73-ba28-cb3b7d92ae8c",
   "metadata": {},
   "source": [
    "# Questions\n",
    "## Q1\n",
    "A company needs to architect a hybrid DNS solution. This solution will use an Amazon Route 53 private hosted zone for the domain cloud.example.com for the resources stored within VPCs.\n",
    "\n",
    "The company has the following DNS resolution requirements:\n",
    "\n",
    "On-premises systems should be able to resolve and connect to cloud.example.com.\n",
    "\n",
    "All VPCs should be able to resolve cloud.example.com.\n",
    "\n",
    "There is already an AWS Direct Connect connection between the on-premises corporate network and AWS Transit Gateway.\n",
    "\n",
    "Which architecture should the company use to meet these requirements with the HIGHEST performance?\n",
    "\n",
    "1. Associate the private hosted zone to all the VPCs. Create a Route 53 inbound resolver in the shared services VPC. Attach all VPCs to the transit gateway and create forwarding rules in the on-premises DNS server for cloud.example.com that point to the inbound resolver.\n",
    "2. Associate the private hosted zone to all the VPCs. Deploy an Amazon EC2 conditional forwarder in the shared services VPC. Attach all VPCs to the transit gateway and create forwarding rules in the on-premises DNS server for cloud.example.com that point to the conditional forwarder.\n",
    "3. Associate the private hosted zone to the shared services VPCreate a Route 53 outbound resolver in the shared services VPAttach all VPCs to the transit gateway and create forwarding rules in the on-premises DNS server for cloud.example.com that point to the outbound resolver.\n",
    "4. Associate the private hosted zone to the shared services VPC. Create a Route 53 inbound resolver in the shared services VPC. Attach the shared services VPC to the transit gateway and create forwarding rules in the on-premises DNS server for cloud.example.com that point to the inbound resolver.\n"
   ]
  },
  {
   "cell_type": "code",
   "execution_count": 1,
   "id": "13329be4-c3bb-448e-a141-40a3ef5ce579",
   "metadata": {},
   "outputs": [
    {
     "name": "stdout",
     "output_type": "stream",
     "text": [
      "hello bash shell\n",
      "total 60\n",
      "drwxr-xr-x   1 root root 4096 Oct 12 17:36 .\n",
      "drwxr-xr-x   1 root root 4096 Oct 12 17:36 ..\n",
      "lrwxrwxrwx   1 root root    7 Aug 16 02:02 bin -> usr/bin\n",
      "drwxr-xr-x   2 root root 4096 Apr 18  2022 boot\n",
      "drwxr-xr-x   5 root root  340 Oct 12 17:36 dev\n",
      "-rwxr-xr-x   1 root root    0 Oct 12 17:36 .dockerenv\n",
      "drwxr-xr-x   1 root root 4096 Oct 12 17:36 etc\n",
      "drwxr-xr-x   1 root root 4096 Sep 25 03:03 home\n",
      "lrwxrwxrwx   1 root root    7 Aug 16 02:02 lib -> usr/lib\n",
      "lrwxrwxrwx   1 root root    9 Aug 16 02:02 lib32 -> usr/lib32\n",
      "lrwxrwxrwx   1 root root    9 Aug 16 02:02 lib64 -> usr/lib64\n",
      "lrwxrwxrwx   1 root root   10 Aug 16 02:02 libx32 -> usr/libx32\n",
      "drwxr-xr-x   2 root root 4096 Aug 16 02:03 media\n",
      "drwxr-xr-x   2 root root 4096 Aug 16 02:03 mnt\n",
      "drwxr-xr-x   1 root root 4096 Sep 25 03:12 opt\n",
      "dr-xr-xr-x 291 root root    0 Oct 12 17:36 proc\n",
      "drwx------   2 root root 4096 Aug 16 02:06 root\n",
      "drwxr-xr-x   5 root root 4096 Aug 16 02:06 run\n",
      "lrwxrwxrwx   1 root root    8 Aug 16 02:02 sbin -> usr/sbin\n",
      "drwxr-xr-x   2 root root 4096 Aug 16 02:03 srv\n",
      "dr-xr-xr-x  13 root root    0 Oct 12 17:36 sys\n",
      "drwxrwxrwt   1 root root 4096 Oct 12 17:36 tmp\n",
      "drwxr-xr-x   1 root root 4096 Aug 16 02:03 usr\n",
      "drwxr-xr-x   1 root root 4096 Aug 16 02:06 var\n"
     ]
    }
   ],
   "source": [
    "%%bash\n",
    "echo \"hello bash shell\"\n",
    "ls -al /"
   ]
  },
  {
   "cell_type": "code",
   "execution_count": null,
   "id": "fc82d993-3986-464b-8f18-6a959b79c13b",
   "metadata": {},
   "outputs": [],
   "source": []
  }
 ],
 "metadata": {
  "kernelspec": {
   "display_name": "Python 3 (ipykernel)",
   "language": "python",
   "name": "python3"
  },
  "language_info": {
   "codemirror_mode": {
    "name": "ipython",
    "version": 3
   },
   "file_extension": ".py",
   "mimetype": "text/x-python",
   "name": "python",
   "nbconvert_exporter": "python",
   "pygments_lexer": "ipython3",
   "version": "3.11.5"
  }
 },
 "nbformat": 4,
 "nbformat_minor": 5
}
